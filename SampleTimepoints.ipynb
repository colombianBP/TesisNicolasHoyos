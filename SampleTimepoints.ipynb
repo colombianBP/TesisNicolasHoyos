{
 "cells": [
  {
   "cell_type": "code",
   "execution_count": null,
   "metadata": {},
   "outputs": [],
   "source": [
    "import pickle as pk\n",
    "import numpy as np\n",
    "import math as mt\n",
    "from os import walk\n",
    "import statistics as st\n",
    "from matplotlib import pyplot\n",
    "import scipy.stats as stats"
   ]
  },
  {
   "cell_type": "code",
   "execution_count": null,
   "metadata": {},
   "outputs": [],
   "source": [
    "poblacion=100\n",
    "archivo='high1e6final'\n",
    "nbins=1000"
   ]
  },
  {
   "cell_type": "code",
   "execution_count": null,
   "metadata": {},
   "outputs": [],
   "source": [
    "#Timepoints \n",
    "allmeans=np.zeros(10)\n",
    "nfiles=0\n",
    "mypath='D:\\\\datos_tesis\\\\'+archivo+'\\\\n'+str(poblacion)+'\\\\'\n",
    "f = []\n",
    "for (dirpath, dirnames, filenames) in walk(mypath):\n",
    "    f.extend(filenames)\n",
    "    break\n",
    "for filename in f:\n",
    "    means=[]\n",
    "    values=0\n",
    "    nvalues=0\n",
    "    contin=0\n",
    "    counter=0\n",
    "    nfiles+=1\n",
    "    with open(mypath+filename,'rb') as openfile:\n",
    "       \n",
    "        while (True):\n",
    "            try:\n",
    "                dato=pk.load(openfile)\n",
    "                counter+=(len(dato)/poblacion)\n",
    "                \n",
    "                if counter>=100000:\n",
    "                    for i in dato:\n",
    "                        if((contin/poblacion)%10000<=1000):\n",
    "                            values+=i\n",
    "                            nvalues+=1\n",
    "                        contin+=1\n",
    "                        if((contin/poblacion)%10000==9999):\n",
    "                            means.append(values/nvalues)\n",
    "                            values=0\n",
    "                            nvalues=0\n",
    "                            \n",
    "            except EOFError:\n",
    "                break\n",
    "    \n",
    "    allmeans=np.add(means,allmeans)\n",
    "allmeans=allmeans/nfiles"
   ]
  },
  {
   "cell_type": "code",
   "execution_count": null,
   "metadata": {},
   "outputs": [],
   "source": [
    "## In order to generate averages, a variables to store the values for each file must be created independently, averaged and named (timeline#)"
   ]
  },
  {
   "cell_type": "code",
   "execution_count": null,
   "metadata": {},
   "outputs": [],
   "source": [
    "#Graph\n",
    "pyplot.hist(histogram100,bins=1000,label=\"n=100\",alpha=0.7)\n",
    "pyplot.hist(histogram1000,bins=1000,label=\"n=1000\",alpha=0.7)\n",
    "pyplot.legend(loc='upper right')\n",
    "pyplot.xlabel(\"Average number of plasmids\")\n",
    "pyplot.ylabel(\"Frequency\")\n",
    "pyplot.title(\"Number of plasmids per bacterial population size\")\n",
    "pyplot.show()"
   ]
  }
 ],
 "metadata": {
  "kernelspec": {
   "display_name": "Python 3",
   "language": "python",
   "name": "python3"
  },
  "language_info": {
   "codemirror_mode": {
    "name": "ipython",
    "version": 3
   },
   "file_extension": ".py",
   "mimetype": "text/x-python",
   "name": "python",
   "nbconvert_exporter": "python",
   "pygments_lexer": "ipython3",
   "version": "3.7.0"
  }
 },
 "nbformat": 4,
 "nbformat_minor": 2
}
