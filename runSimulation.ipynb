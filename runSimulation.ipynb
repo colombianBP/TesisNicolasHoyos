{
 "cells": [
  {
   "cell_type": "code",
   "execution_count": 1,
   "metadata": {},
   "outputs": [],
   "source": [
    "import numpy as np\n",
    "import random as rn\n",
    "import pandas as pd\n",
    "import math as mt\n",
    "import pickle as pk\n",
    "import time"
   ]
  },
  {
   "cell_type": "code",
   "execution_count": 2,
   "metadata": {},
   "outputs": [],
   "source": [
    "##Imputs\n",
    "\n",
    "#Total bacterial population\n",
    "ni=100\n",
    "\n",
    "#Plasmid mutation rate\n",
    "u=1e-6\n",
    "#Constant hill coeficient\n",
    "h=5\n",
    "\n",
    "#Initial represion coeficient\n",
    "ksi=4\n",
    "        "
   ]
  },
  {
   "cell_type": "markdown",
   "metadata": {},
   "source": [
    "mutantesPorProb(n,k)"
   ]
  },
  {
   "cell_type": "code",
   "execution_count": 4,
   "metadata": {},
   "outputs": [],
   "source": [
    "def mutantesPorPob(n,k):\n",
    "    global u\n",
    "    mutantes=[]\n",
    "    nexp=(27.93*mt.exp(-h)+1.652)*k\n",
    "    nplas=np.random.binomial(nexp,u,n)\n",
    "    nmut=sum(nplas)\n",
    "    if nmut==0:\n",
    "        return(mutantes)\n",
    "    for i in range(nmut):\n",
    "        ka=-np.random.gamma(2,3,1)[0] + k + 3\n",
    "        nexpka=(27.93*mt.exp(-h)+1.652)*ka\n",
    "        if nexpka<1 or nexpka>200:\n",
    "            continue\n",
    "        ca=((0.029*h)-0.036)*mt.log(k/ka)\n",
    "        \n",
    "        r=1-ca\n",
    "        pfix=(1-(1/r))/(1-(1/(r**nexp)))\n",
    "        if(rn.random()<=pfix):\n",
    "            mutantes.append(ka)\n",
    "    return(mutantes)"
   ]
  },
  {
   "cell_type": "code",
   "execution_count": 5,
   "metadata": {},
   "outputs": [
    {
     "name": "stdout",
     "output_type": "stream",
     "text": [
      "[100]\n",
      "[4]\n"
     ]
    }
   ],
   "source": [
    "#Set initial conditions\n",
    "poblacion=[ni]\n",
    "\n",
    "ks=[ksi]\n",
    "print(poblacion)\n",
    "print(ks)\n",
    "promedios=[]"
   ]
  },
  {
   "cell_type": "code",
   "execution_count": 6,
   "metadata": {},
   "outputs": [
    {
     "name": "stdout",
     "output_type": "stream",
     "text": [
      "1008.3344208999999\n",
      "1\n",
      "1026.8825500999997\n",
      "2\n"
     ]
    }
   ],
   "source": [
    "#Ciclo\n",
    "archivo=0\n",
    "while archivo<=1:\n",
    "    t1=time.perf_counter()\n",
    "       with open('D:\\\\datos_tesis\\\\high1e6final\\\\n'+str(ni)+'\\\\promedio'+str(archivo)+'.txt', 'wb+') as prom:\n",
    "        ccounter=0\n",
    "        poblacion=[ni]\n",
    "        ks=[ksi]\n",
    "        Spoblacion=[]\n",
    "        Sks=[]\n",
    "        promedios=[]\n",
    "        for w in range(200000*ni):\n",
    "            #Reproduccion\n",
    "            part=[]\n",
    "            rs=[]\n",
    "            for i in range(len(poblacion)):\n",
    "                nmean=(27.93*mt.exp(-h)+1.652)*ks[i]\n",
    "                r=1/(1+(0.0000001*nmean))\n",
    "                rs.append(r)\n",
    "            ptotal=sum(np.multiply(rs,poblacion))\n",
    "            ponderada=[]\n",
    "            for i in range(len(poblacion)):\n",
    "                ponderada.append(poblacion[i]*rs[i]/ptotal)\n",
    "\n",
    "            for i in range(len(poblacion)):\n",
    "                if(i>=1):\n",
    "                    part.append(part[i-1]+ponderada[i])\n",
    "                else:\n",
    "                    part.append(ponderada[i])  \n",
    "\n",
    "            part[-1]=1\n",
    "            prob=rn.random()\n",
    "            cont=0\n",
    "            for i in part:\n",
    "                if (prob<=i):\n",
    "                    poblacion[cont]=poblacion[cont]+1\n",
    "                    break\n",
    "                cont+=1\n",
    "\n",
    "            #Death\n",
    "            part=[]\n",
    "            total=sum(poblacion)\n",
    "            for i in range(len(poblacion)):\n",
    "                if(i>=1):\n",
    "                    part.append(part[i-1]+(poblacion[i]/total))\n",
    "                else:\n",
    "                    part.append(poblacion[i]/total)\n",
    "\n",
    "            part[-1]=1\n",
    "            prob=rn.random()\n",
    "            cont=0\n",
    "            for i in part:\n",
    "                if (prob<=i):\n",
    "                    poblacion[cont]=poblacion[cont]-1\n",
    "                    break\n",
    "                cont+=1\n",
    "            #Mutacion\n",
    "            for i in range(len(poblacion)):\n",
    "                mutantes=mutantesPorPob(poblacion[i],ks[i])\n",
    "                if(mutantes!=[]):\n",
    "                    for j in mutantes:\n",
    "                        #print(j)\n",
    "                        poblacion[i]=poblacion[i]-1\n",
    "                        poblacion.append(1)\n",
    "                        ks.append(j)\n",
    "\n",
    "            lista=list(map(lambda x,y:x*y,poblacion,ks))\n",
    "            ptot=sum(poblacion)\n",
    "            suma=sum(lista)\n",
    "            promedio=suma/ptot\n",
    "            promedios.append(promedio)\n",
    "\n",
    "            #Restart variables\n",
    "            while(0 in poblacion):\n",
    "                ks.pop(poblacion.index(0))\n",
    "                poblacion.pop(poblacion.index(0))\n",
    "\n",
    "            ccounter+=1\n",
    "\n",
    "            #Clear memory\n",
    "            if(ccounter % 5000==4999):\n",
    "                pk.dump(promedios,prom)\n",
    "                promedios=[]\n",
    "        pk.dump(promedios,prom)\n",
    "    archivo+=1\n",
    "    t2=time.perf_counter()\n",
    "    print(archivo)"
   ]
  }
 ],
 "metadata": {
  "kernelspec": {
   "display_name": "Python 3",
   "language": "python",
   "name": "python3"
  },
  "language_info": {
   "codemirror_mode": {
    "name": "ipython",
    "version": 3
   },
   "file_extension": ".py",
   "mimetype": "text/x-python",
   "name": "python",
   "nbconvert_exporter": "python",
   "pygments_lexer": "ipython3",
   "version": "3.7.0"
  }
 },
 "nbformat": 4,
 "nbformat_minor": 2
}
