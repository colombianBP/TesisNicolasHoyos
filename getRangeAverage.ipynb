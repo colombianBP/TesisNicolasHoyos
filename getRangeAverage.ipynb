{
 "cells": [
  {
   "cell_type": "code",
   "execution_count": 3,
   "metadata": {},
   "outputs": [],
   "source": [
    "import pickle as pk\n",
    "import numpy as np\n",
    "import math as mt\n",
    "from os import walk\n",
    "import statistics as st\n",
    "from matplotlib import pyplot"
   ]
  },
  {
   "cell_type": "code",
   "execution_count": 14,
   "metadata": {},
   "outputs": [],
   "source": [
    "poblaciones=[100]\n",
    "archivo='high1e6final'\n",
    "nbins=100\n",
    "borders=[149000,159000]"
   ]
  },
  {
   "cell_type": "code",
   "execution_count": 15,
   "metadata": {},
   "outputs": [],
   "source": [
    "##Totmeans & totvar are for statistical analysis, maxi is for graphics\n",
    "maxi=0     \n",
    "totvar=[]\n",
    "totmeans=[]\n",
    "for ni in poblaciones:\n",
    "    midvar=[]\n",
    "    midmean=[]\n",
    "    mypath='D:\\\\datos_tesis\\\\'+archivo+'\\\\n'+str(ni)+'\\\\'\n",
    "    f = []\n",
    "    for (dirpath, dirnames, filenames) in walk(mypath):\n",
    "        f.extend(filenames)\n",
    "        break\n",
    "    for filename in f:\n",
    "        means=[]\n",
    "        varianzas=[]\n",
    "        data=[]\n",
    "        counter=0\n",
    "        llego=False\n",
    "        with open(mypath+filename,'rb') as openfile:\n",
    "            while (counter<borders[1]):\n",
    "                try:\n",
    "                   \n",
    "                    dato=pk.load(openfile)\n",
    "                    counter+=(len(dato)/ni)\n",
    "                    if(counter>borders[0] and llego==False):\n",
    "                        data.extend(dato[int(round(len(dato)-((counter-borders[0])*ni))):])\n",
    "                        llego=True\n",
    "                    elif(counter>borders[0]):\n",
    "                        data.extend(dato)                    \n",
    "                except EOFError:\n",
    "                    break\n",
    "            data=data[0:((borders[1]-borders[0])*ni)+1]\n",
    "            if len(data)>0:\n",
    "                means.append(st.mean(data))\n",
    "                varianzas.append(st.variance(data))\n",
    "                maxi=max([maxi,max(data)])\n",
    "        if len(varianzas)>0:\n",
    "            midvar.append(varianzas[0])\n",
    "            midmean.append(means[0])\n",
    "    totvar.append(midvar)\n",
    "    totmeans.append(midmean)\n"
   ]
  },
  {
   "cell_type": "code",
   "execution_count": 16,
   "metadata": {},
   "outputs": [],
   "source": [
    "allbins=[]\n",
    "for ni in poblaciones:\n",
    "    mypath='D:\\\\datos_tesis\\\\'+archivo+'\\\\n'+str(ni)+'\\\\'\n",
    "    f = []\n",
    "    #Make filename list(inside folder)\n",
    "    for (dirpath, dirnames, filenames) in walk(mypath):\n",
    "        f.extend(filenames)\n",
    "        break\n",
    "    #For each independent run\n",
    "    histograma=np.zeros(nbins)\n",
    "    for filename in f:\n",
    "        data=[]\n",
    "        counter=0\n",
    "        llego=False\n",
    "        #Open specific filename to fill data variable\n",
    "        with open(mypath+filename,'rb') as openfile:\n",
    "            while (counter<borders[1]):\n",
    "                try:\n",
    "                    dato=pk.load(openfile)\n",
    "                    counter+=(len(dato)/ni)\n",
    "                    if(counter>borders[0] and llego==False):\n",
    "                        data.extend(dato[int(round(len(dato)-((counter-borders[0])*ni))):])\n",
    "                        llego=True\n",
    "                except EOFError:\n",
    "                    break\n",
    "        data=data[0:((borders[1]-borders[0])*ni)+1]   \n",
    "        histograma=histograma+np.histogram(data,bins=nbins,range=(1,maxi))[0]\n",
    "    allbins.append(histograma)"
   ]
  },
  {
   "cell_type": "code",
   "execution_count": 19,
   "metadata": {},
   "outputs": [
    {
     "name": "stdout",
     "output_type": "stream",
     "text": [
      "449910.0\n"
     ]
    }
   ],
   "source": [
    "#Normalice by size\n",
    "mini=10**10\n",
    "for i in range(len(allbins)):\n",
    "    mini=min([mini,sum(allbins[i])])\n",
    "print(mini)\n",
    "\n",
    "for i in range(len(allbins)):\n",
    "    corr=mini/sum(allbins[i])\n",
    "    for j in range(len(allbins[i])):\n",
    "        allbins[i][j]=allbins[i][j]*corr"
   ]
  },
  {
   "cell_type": "code",
   "execution_count": 20,
   "metadata": {},
   "outputs": [
    {
     "data": {
      "image/png": "[encoded data removed]",
      "text/plain": [
       "<Figure size 432x288 with 1 Axes>"
      ]
     },
     "metadata": {
      "needs_background": "light"
     },
     "output_type": "display_data"
    }
   ],
   "source": [
    "# Graph \n",
    "rbins=np.linspace(0,maxi,nbins)\n",
    "\n",
    "i=0\n",
    "for ni in poblaciones:\n",
    "    pyplot.plot( rbins,allbins[i], label=str(ni))\n",
    "    i+=1\n",
    "\n",
    "pyplot.legend(loc='upper right')\n",
    "pyplot.show()"
   ]
  },
  {
   "cell_type": "code",
   "execution_count": 21,
   "metadata": {},
   "outputs": [
    {
     "name": "stderr",
     "output_type": "stream",
     "text": [
      "C:\\Users\\nicol\\Anaconda3\\lib\\site-packages\\ipykernel_launcher.py:3: RuntimeWarning: divide by zero encountered in log10\n",
      "  This is separate from the ipykernel package so we can avoid doing imports until\n"
     ]
    },
    {
     "data": {
      "image/png": "[encoded data removed]",
      "text/plain": [
       "<Figure size 432x288 with 1 Axes>"
      ]
     },
     "metadata": {
      "needs_background": "light"
     },
     "output_type": "display_data"
    }
   ],
   "source": [
    "#Log Graph\n",
    "i=0\n",
    "for ni in poblaciones:\n",
    "    pyplot.plot( rbins,np.log10(allbins[i]), label=str(ni))\n",
    "    i+=1\n",
    "\n",
    "pyplot.legend(loc='upper right')\n",
    "pyplot.show()"
   ]
  },
  {
   "cell_type": "code",
   "execution_count": 22,
   "metadata": {},
   "outputs": [],
   "source": [
    "meanOfMeans=[]\n",
    "varOfMeans=[]\n",
    "meanOfVars=[]\n",
    "varOfVars=[]\n",
    "count=0\n",
    "for i in range(len(totmeans)):\n",
    "    \n",
    "   \n",
    "    \n",
    "    meanOfMeans.append(st.mean(totmeans[i]))\n",
    "    varOfMeans.append(st.variance(totmeans[i]))\n",
    "    \n",
    "    meanOfVars.append(st.mean(totvar[i]))\n",
    "    varOfVars.append(st.variance(totvar[i]))"
   ]
  },
  {
   "cell_type": "code",
   "execution_count": 23,
   "metadata": {},
   "outputs": [
    {
     "name": "stdout",
     "output_type": "stream",
     "text": [
      "[3.6268321955888463]\n",
      "[0.13634307403686743]\n",
      "[7.125961693667726]\n",
      "[0.09742255822162185]\n"
     ]
    }
   ],
   "source": [
    "print(meanOfMeans)\n",
    "print(meanOfVars)\n",
    "print(varOfMeans)\n",
    "print(varOfVars)"
   ]
  },
  {
   "cell_type": "code",
   "execution_count": null,
   "metadata": {},
   "outputs": [],
   "source": [
    "# This Script is slow, ineficient, and has to be run for each individual timepoint to evaluate\n",
    "# 'meanOfMeans' will give the required value for the selected interval so it can be later graphed"
   ]
  }
 ],
 "metadata": {
  "kernelspec": {
   "display_name": "Python 3",
   "language": "python",
   "name": "python3"
  },
  "language_info": {
   "codemirror_mode": {
    "name": "ipython",
    "version": 3
   },
   "file_extension": ".py",
   "mimetype": "text/x-python",
   "name": "python",
   "nbconvert_exporter": "python",
   "pygments_lexer": "ipython3",
   "version": "3.7.0"
  }
 },
 "nbformat": 4,
 "nbformat_minor": 2
}
